{
 "cells": [
  {
   "cell_type": "code",
   "execution_count": 3,
   "id": "5b6e4ef8-4a36-43d9-a4a0-6836dd83847f",
   "metadata": {},
   "outputs": [
    {
     "name": "stdout",
     "output_type": "stream",
     "text": [
      "Training Data:\n",
      "      sky  Temp Humidity    Wind Water Forecast EnjoySport\n",
      "0  sunny  warm   normal  strong  warm     same        Yes\n",
      "1  sunny  warm     high  strong  warm     same        Yes\n",
      "2  rainy  cold     high  strong  cool   change         No\n",
      "3  sunny  warm   normal    weak  warm     same        Yes\n",
      "4  rainy  cold     high    weak  cold   change         No\n",
      "5  sunny  warm   normal    weak  warm     same        Yes \n",
      "\n",
      "Final Hypothesis: ['sunny', 'warm', 'normal', 'weak', 'warm', 'same']\n"
     ]
    },
    {
     "name": "stderr",
     "output_type": "stream",
     "text": [
      "C:\\Users\\Hp\\AppData\\Local\\Temp\\ipykernel_416\\4196831847.py:7: FutureWarning: Series.__getitem__ treating keys as positions is deprecated. In a future version, integer keys will always be treated as labels (consistent with DataFrame behavior). To access a value by position, use `ser.iloc[pos]`\n",
      "  if str(row[-1]).strip().lower() == 'yes':\n",
      "C:\\Users\\Hp\\AppData\\Local\\Temp\\ipykernel_416\\4196831847.py:10: FutureWarning: Series.__getitem__ treating keys as positions is deprecated. In a future version, integer keys will always be treated as labels (consistent with DataFrame behavior). To access a value by position, use `ser.iloc[pos]`\n",
      "  hypo[i] = row[i]\n",
      "C:\\Users\\Hp\\AppData\\Local\\Temp\\ipykernel_416\\4196831847.py:11: FutureWarning: Series.__getitem__ treating keys as positions is deprecated. In a future version, integer keys will always be treated as labels (consistent with DataFrame behavior). To access a value by position, use `ser.iloc[pos]`\n",
      "  elif hypo[i] != row[i]:\n"
     ]
    },
    {
     "data": {
      "text/plain": [
       "['sunny', 'warm', 'normal', 'weak', 'warm', 'same']"
      ]
     },
     "execution_count": 3,
     "metadata": {},
     "output_type": "execute_result"
    }
   ],
   "source": [
    "import pandas as pd\n",
    "def find_s(file_path):   \n",
    "    data = pd.read_csv(file_path)\n",
    "    print(\"Training Data:\\n\", data, \"\\n\")\n",
    "    hypo = ['?' for _ in range(len(data.columns) - 1)]\n",
    "    for _, row in data.iterrows():\n",
    "        if str(row[-1]).strip().lower() == 'yes':\n",
    "            for i in range(len(hypo)):\n",
    "                if hypo[i] == '?':\n",
    "                    hypo[i] = row[i]\n",
    "                elif hypo[i] != row[i]:\n",
    "                    hypo[i] = '?'\n",
    "    print(\"Final Hypothesis:\", hypo)\n",
    "    return hypo\n",
    "file_path = r'data1.csv'\n",
    "find_s(file_path)"
   ]
  },
  {
   "cell_type": "code",
   "execution_count": null,
   "id": "d70a5871-4895-4f5b-80c0-93cab20c9b79",
   "metadata": {},
   "outputs": [],
   "source": []
  }
 ],
 "metadata": {
  "kernelspec": {
   "display_name": "Python 3 (ipykernel)",
   "language": "python",
   "name": "python3"
  },
  "language_info": {
   "codemirror_mode": {
    "name": "ipython",
    "version": 3
   },
   "file_extension": ".py",
   "mimetype": "text/x-python",
   "name": "python",
   "nbconvert_exporter": "python",
   "pygments_lexer": "ipython3",
   "version": "3.11.9"
  }
 },
 "nbformat": 4,
 "nbformat_minor": 5
}
