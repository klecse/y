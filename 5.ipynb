{
 "cells": [
  {
   "cell_type": "code",
   "execution_count": 1,
   "id": "bff90de5-553b-41b0-9391-db779dad0bab",
   "metadata": {},
   "outputs": [
    {
     "name": "stdout",
     "output_type": "stream",
     "text": [
      "\n",
      "K = 1\n",
      "Predicted Labels: [2 1 2 1 2 2 2 1 2 2 1 1 2 1 2 1 1 2 1 2 1 2 1 2 1 1 1 1 1 2 2 1 2 1 1 1 2\n",
      " 2 1 1 2 2 2 2 1 1 1 1 1 2]\n",
      "\n",
      "K = 2\n",
      "Predicted Labels: [2 1 2 1 2 2 2 1 2 2 1 1 2 1 2 1 1 2 1 2 1 2 1 1 1 1 1 1 1 2 2 1 2 1 1 1 2\n",
      " 2 1 1 2 2 2 2 1 1 1 1 1 2]\n",
      "\n",
      "K = 3\n",
      "Predicted Labels: [2 1 2 1 2 2 2 1 2 2 1 1 2 1 2 1 1 2 1 2 1 2 1 2 1 1 1 1 1 2 2 1 2 1 1 1 2\n",
      " 2 2 1 2 2 2 2 1 1 1 1 1 2]\n",
      "\n",
      "K = 4\n",
      "Predicted Labels: [2 1 1 1 2 2 2 1 2 2 1 1 2 1 2 1 1 2 1 2 1 2 1 1 1 1 1 1 1 2 2 1 2 1 1 1 2\n",
      " 2 1 1 2 2 2 2 1 1 1 1 1 2]\n",
      "\n",
      "K = 5\n",
      "Predicted Labels: [2 1 2 1 2 2 2 1 2 2 1 1 2 1 2 1 1 2 1 2 1 2 1 1 1 1 1 1 1 2 2 1 2 1 1 1 2\n",
      " 2 1 1 2 2 2 2 1 1 1 1 1 2]\n",
      "\n",
      "K = 20\n",
      "Predicted Labels: [1 1 1 1 2 2 2 1 2 2 1 1 2 1 2 1 1 2 1 2 1 1 1 1 1 1 1 1 1 2 2 1 2 1 1 1 2\n",
      " 2 1 1 2 1 2 2 1 1 1 1 1 2]\n",
      "\n",
      "K = 30\n",
      "Predicted Labels: [2 1 2 1 2 2 2 1 2 2 1 1 2 1 2 1 1 2 1 2 1 2 1 1 1 1 1 1 1 2 2 1 2 1 1 1 2\n",
      " 2 1 1 2 2 2 2 1 1 1 1 1 2]\n"
     ]
    }
   ],
   "source": [
    "import numpy as np\n",
    "from sklearn.neighbors import KNeighborsClassifier\n",
    "data = np.random.rand(100)\n",
    "labels = np.where(data <= 0.5, 1, 2)\n",
    "train_data = data[:50].reshape(-1, 1)\n",
    "train_labels = labels[:50]\n",
    "test_data = data[50:].reshape(-1, 1)\n",
    "k_values = [1, 2, 3, 4, 5, 20, 30]\n",
    "for k in k_values:\n",
    "    model = KNeighborsClassifier(n_neighbors=k)\n",
    "    model.fit(train_data, train_labels)\n",
    "    predictions = model.predict(test_data)\n",
    "    print(f\"\\nK = {k}\")\n",
    "    print(\"Predicted Labels:\", predictions)"
   ]
  },
  {
   "cell_type": "code",
   "execution_count": null,
   "id": "8848a01c-1df3-4d81-98bf-a2cf7afec276",
   "metadata": {},
   "outputs": [],
   "source": []
  }
 ],
 "metadata": {
  "kernelspec": {
   "display_name": "Python 3 (ipykernel)",
   "language": "python",
   "name": "python3"
  },
  "language_info": {
   "codemirror_mode": {
    "name": "ipython",
    "version": 3
   },
   "file_extension": ".py",
   "mimetype": "text/x-python",
   "name": "python",
   "nbconvert_exporter": "python",
   "pygments_lexer": "ipython3",
   "version": "3.11.9"
  }
 },
 "nbformat": 4,
 "nbformat_minor": 5
}
